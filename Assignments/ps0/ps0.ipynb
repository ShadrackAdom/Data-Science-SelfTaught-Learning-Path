{
 "cells": [
  {
   "cell_type": "code",
   "execution_count": 4,
   "id": "020784cd-2041-40e4-8987-494b4d90ba97",
   "metadata": {
    "tags": []
   },
   "outputs": [
    {
     "name": "stdin",
     "output_type": "stream",
     "text": [
      "Enter number x: 3\n",
      "Enter number y: 2\n"
     ]
    },
    {
     "name": "stdout",
     "output_type": "stream",
     "text": [
      "9\n",
      "1.584962500721156\n"
     ]
    }
   ],
   "source": [
    "import numpy\n",
    "\n",
    "x = int(input('Enter number x:'))\n",
    "y = int(input('Enter number y:'))\n",
    "print(x**y)\n",
    "print(numpy.log2(x))"
   ]
  },
  {
   "cell_type": "code",
   "execution_count": null,
   "id": "a32611b5-fe2e-4789-a865-30026563a3b1",
   "metadata": {},
   "outputs": [],
   "source": []
  }
 ],
 "metadata": {
  "kernelspec": {
   "display_name": "Python 3 (ipykernel)",
   "language": "python",
   "name": "python3"
  },
  "language_info": {
   "codemirror_mode": {
    "name": "ipython",
    "version": 3
   },
   "file_extension": ".py",
   "mimetype": "text/x-python",
   "name": "python",
   "nbconvert_exporter": "python",
   "pygments_lexer": "ipython3",
   "version": "3.11.3"
  }
 },
 "nbformat": 4,
 "nbformat_minor": 5
}
